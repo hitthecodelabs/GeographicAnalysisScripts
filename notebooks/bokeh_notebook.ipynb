{
  "nbformat": 4,
  "nbformat_minor": 0,
  "metadata": {
    "colab": {
      "provenance": []
    },
    "kernelspec": {
      "name": "python3",
      "display_name": "Python 3"
    },
    "language_info": {
      "name": "python"
    }
  },
  "cells": [
    {
      "cell_type": "code",
      "source": [
        "!pip install osmnx"
      ],
      "metadata": {
        "colab": {
          "base_uri": "https://localhost:8080/"
        },
        "id": "Cx6LBogliYcW",
        "outputId": "b18ae875-5cb5-4e96-d514-e1a8173b9c43"
      },
      "execution_count": 8,
      "outputs": [
        {
          "output_type": "stream",
          "name": "stdout",
          "text": [
            "Collecting osmnx\n",
            "  Downloading osmnx-2.0.1-py3-none-any.whl.metadata (4.9 kB)\n",
            "Requirement already satisfied: geopandas>=1.0 in /usr/local/lib/python3.11/dist-packages (from osmnx) (1.0.1)\n",
            "Requirement already satisfied: networkx>=2.5 in /usr/local/lib/python3.11/dist-packages (from osmnx) (3.4.2)\n",
            "Requirement already satisfied: numpy>=1.22 in /usr/local/lib/python3.11/dist-packages (from osmnx) (1.26.4)\n",
            "Requirement already satisfied: pandas>=1.4 in /usr/local/lib/python3.11/dist-packages (from osmnx) (2.2.2)\n",
            "Requirement already satisfied: requests>=2.27 in /usr/local/lib/python3.11/dist-packages (from osmnx) (2.32.3)\n",
            "Requirement already satisfied: shapely>=2.0 in /usr/local/lib/python3.11/dist-packages (from osmnx) (2.0.6)\n",
            "Requirement already satisfied: pyogrio>=0.7.2 in /usr/local/lib/python3.11/dist-packages (from geopandas>=1.0->osmnx) (0.10.0)\n",
            "Requirement already satisfied: packaging in /usr/local/lib/python3.11/dist-packages (from geopandas>=1.0->osmnx) (24.2)\n",
            "Requirement already satisfied: pyproj>=3.3.0 in /usr/local/lib/python3.11/dist-packages (from geopandas>=1.0->osmnx) (3.7.0)\n",
            "Requirement already satisfied: python-dateutil>=2.8.2 in /usr/local/lib/python3.11/dist-packages (from pandas>=1.4->osmnx) (2.8.2)\n",
            "Requirement already satisfied: pytz>=2020.1 in /usr/local/lib/python3.11/dist-packages (from pandas>=1.4->osmnx) (2024.2)\n",
            "Requirement already satisfied: tzdata>=2022.7 in /usr/local/lib/python3.11/dist-packages (from pandas>=1.4->osmnx) (2024.2)\n",
            "Requirement already satisfied: charset-normalizer<4,>=2 in /usr/local/lib/python3.11/dist-packages (from requests>=2.27->osmnx) (3.4.1)\n",
            "Requirement already satisfied: idna<4,>=2.5 in /usr/local/lib/python3.11/dist-packages (from requests>=2.27->osmnx) (3.10)\n",
            "Requirement already satisfied: urllib3<3,>=1.21.1 in /usr/local/lib/python3.11/dist-packages (from requests>=2.27->osmnx) (2.3.0)\n",
            "Requirement already satisfied: certifi>=2017.4.17 in /usr/local/lib/python3.11/dist-packages (from requests>=2.27->osmnx) (2024.12.14)\n",
            "Requirement already satisfied: six>=1.5 in /usr/local/lib/python3.11/dist-packages (from python-dateutil>=2.8.2->pandas>=1.4->osmnx) (1.17.0)\n",
            "Downloading osmnx-2.0.1-py3-none-any.whl (99 kB)\n",
            "\u001b[2K   \u001b[90m━━━━━━━━━━━━━━━━━━━━━━━━━━━━━━━━━━━━━━━━\u001b[0m \u001b[32m99.6/99.6 kB\u001b[0m \u001b[31m3.7 MB/s\u001b[0m eta \u001b[36m0:00:00\u001b[0m\n",
            "\u001b[?25hInstalling collected packages: osmnx\n",
            "Successfully installed osmnx-2.0.1\n"
          ]
        }
      ]
    },
    {
      "cell_type": "code",
      "source": [
        "!pip install bokeh==2.4.3"
      ],
      "metadata": {
        "colab": {
          "base_uri": "https://localhost:8080/",
          "height": 524
        },
        "id": "Olj5NlgSiohl",
        "outputId": "901d52a9-1d5e-49c5-baad-444771cd6ce0"
      },
      "execution_count": 13,
      "outputs": [
        {
          "output_type": "stream",
          "name": "stdout",
          "text": [
            "Collecting bokeh==2.4.3\n",
            "  Downloading bokeh-2.4.3-py3-none-any.whl.metadata (14 kB)\n",
            "Requirement already satisfied: Jinja2>=2.9 in /usr/local/lib/python3.11/dist-packages (from bokeh==2.4.3) (3.1.5)\n",
            "Requirement already satisfied: numpy>=1.11.3 in /usr/local/lib/python3.11/dist-packages (from bokeh==2.4.3) (1.26.4)\n",
            "Requirement already satisfied: packaging>=16.8 in /usr/local/lib/python3.11/dist-packages (from bokeh==2.4.3) (24.2)\n",
            "Requirement already satisfied: pillow>=7.1.0 in /usr/local/lib/python3.11/dist-packages (from bokeh==2.4.3) (11.1.0)\n",
            "Requirement already satisfied: PyYAML>=3.10 in /usr/local/lib/python3.11/dist-packages (from bokeh==2.4.3) (6.0.2)\n",
            "Requirement already satisfied: tornado>=5.1 in /usr/local/lib/python3.11/dist-packages (from bokeh==2.4.3) (6.3.3)\n",
            "Requirement already satisfied: typing-extensions>=3.10.0 in /usr/local/lib/python3.11/dist-packages (from bokeh==2.4.3) (4.12.2)\n",
            "Requirement already satisfied: MarkupSafe>=2.0 in /usr/local/lib/python3.11/dist-packages (from Jinja2>=2.9->bokeh==2.4.3) (3.0.2)\n",
            "Downloading bokeh-2.4.3-py3-none-any.whl (18.5 MB)\n",
            "\u001b[2K   \u001b[90m━━━━━━━━━━━━━━━━━━━━━━━━━━━━━━━━━━━━━━━━\u001b[0m \u001b[32m18.5/18.5 MB\u001b[0m \u001b[31m57.8 MB/s\u001b[0m eta \u001b[36m0:00:00\u001b[0m\n",
            "\u001b[?25hInstalling collected packages: bokeh\n",
            "  Attempting uninstall: bokeh\n",
            "    Found existing installation: bokeh 3.6.2\n",
            "    Uninstalling bokeh-3.6.2:\n",
            "      Successfully uninstalled bokeh-3.6.2\n",
            "\u001b[31mERROR: pip's dependency resolver does not currently take into account all the packages that are installed. This behaviour is the source of the following dependency conflicts.\n",
            "panel 1.5.5 requires bokeh<3.7.0,>=3.5.0, but you have bokeh 2.4.3 which is incompatible.\n",
            "holoviews 1.20.0 requires bokeh>=3.1, but you have bokeh 2.4.3 which is incompatible.\u001b[0m\u001b[31m\n",
            "\u001b[0mSuccessfully installed bokeh-2.4.3\n"
          ]
        },
        {
          "output_type": "display_data",
          "data": {
            "application/vnd.colab-display-data+json": {
              "pip_warning": {
                "packages": [
                  "bokeh"
                ]
              },
              "id": "717ccda7fff54eebb89d871c0aced950"
            }
          },
          "metadata": {}
        }
      ]
    },
    {
      "cell_type": "code",
      "source": [
        "import os\n",
        "import math\n",
        "import asyncio\n",
        "import nest_asyncio\n",
        "\n",
        "import numpy as np\n",
        "import osmnx as ox\n",
        "import pandas as pd\n",
        "# import pydeck as pdk\n",
        "import geopandas as gpd\n",
        "\n",
        "from glob import glob\n",
        "# from pyppeteer import launch\n",
        "# from selenium import webdriver\n",
        "# from selenium.webdriver.chrome.options import Options\n",
        "\n",
        "from bokeh.io import output_file\n",
        "from bokeh.plotting import figure, show\n",
        "from bokeh.models import ColumnDataSource\n",
        "from bokeh.tile_providers import get_provider, Vendors\n",
        "\n",
        "import plotly.express as px\n",
        "import plotly.graph_objects as go"
      ],
      "metadata": {
        "id": "1P34BBpciUmq"
      },
      "execution_count": 2,
      "outputs": []
    },
    {
      "cell_type": "code",
      "source": [
        "def latlon_to_web_mercator(lat, lon):\n",
        "    \"\"\"\n",
        "    Convert latitude and longitude to Web Mercator projection.\n",
        "    \"\"\"\n",
        "    k = 6378137  # Earth's radius in meters\n",
        "    x = lon * (k * math.pi / 180.0)\n",
        "    y = math.log(math.tan((90 + lat) * math.pi / 360.0)) * k\n",
        "    return x, y\n",
        "\n",
        "# Extract x and y coordinates for polygons, ignoring z-coordinate\n",
        "def extract_coords(geometry):\n",
        "    if geometry.geom_type == \"Polygon\":\n",
        "        # Extract x, y from 3D coordinates\n",
        "        coords = [(coord[0], coord[1]) for coord in geometry.exterior.coords]\n",
        "    elif geometry.geom_type == \"MultiPolygon\":\n",
        "        # Handle MultiPolygons by extracting all exterior rings\n",
        "        coords = [(coord[0], coord[1]) for polygon in geometry for coord in polygon.exterior.coords]\n",
        "    else:\n",
        "        coords = []  # Handle unsupported geometries gracefully\n",
        "    return coords"
      ],
      "metadata": {
        "id": "CETaRJj6hyy3"
      },
      "execution_count": 3,
      "outputs": []
    },
    {
      "cell_type": "code",
      "source": [
        "# Load GeoPandas DataFrame\n",
        "gdf = gpd.read_file(\"Centros Comerciales.kml\")\n",
        "gdf.head()"
      ],
      "metadata": {
        "colab": {
          "base_uri": "https://localhost:8080/",
          "height": 206
        },
        "id": "i6n5-2INiKVg",
        "outputId": "3cfa97e9-f54f-43f3-fae4-9cbe013d0a14"
      },
      "execution_count": 4,
      "outputs": [
        {
          "output_type": "execute_result",
          "data": {
            "text/plain": [
              "              Name Description  \\\n",
              "0        City Mall               \n",
              "1  Riocentro Norte               \n",
              "2     Mall del Río               \n",
              "3     Mall del Sol               \n",
              "4       La Rotonda               \n",
              "\n",
              "                                            geometry  \n",
              "0  POLYGON Z ((-79.91049 -2.14146 0, -79.90921 -2...  \n",
              "1  POLYGON Z ((-79.90559 -2.12627 0, -79.90735 -2...  \n",
              "2  POLYGON Z ((-79.90537 -2.12544 0, -79.90532 -2...  \n",
              "3  POLYGON Z ((-79.89463 -2.1547 0, -79.8946 -2.1...  \n",
              "4  POLYGON Z ((-79.90882 -2.13974 0, -79.90854 -2...  "
            ],
            "text/html": [
              "\n",
              "  <div id=\"df-cee4f6c2-74b5-4110-9247-3c58f68ce6fc\" class=\"colab-df-container\">\n",
              "    <div>\n",
              "<style scoped>\n",
              "    .dataframe tbody tr th:only-of-type {\n",
              "        vertical-align: middle;\n",
              "    }\n",
              "\n",
              "    .dataframe tbody tr th {\n",
              "        vertical-align: top;\n",
              "    }\n",
              "\n",
              "    .dataframe thead th {\n",
              "        text-align: right;\n",
              "    }\n",
              "</style>\n",
              "<table border=\"1\" class=\"dataframe\">\n",
              "  <thead>\n",
              "    <tr style=\"text-align: right;\">\n",
              "      <th></th>\n",
              "      <th>Name</th>\n",
              "      <th>Description</th>\n",
              "      <th>geometry</th>\n",
              "    </tr>\n",
              "  </thead>\n",
              "  <tbody>\n",
              "    <tr>\n",
              "      <th>0</th>\n",
              "      <td>City Mall</td>\n",
              "      <td></td>\n",
              "      <td>POLYGON Z ((-79.91049 -2.14146 0, -79.90921 -2...</td>\n",
              "    </tr>\n",
              "    <tr>\n",
              "      <th>1</th>\n",
              "      <td>Riocentro Norte</td>\n",
              "      <td></td>\n",
              "      <td>POLYGON Z ((-79.90559 -2.12627 0, -79.90735 -2...</td>\n",
              "    </tr>\n",
              "    <tr>\n",
              "      <th>2</th>\n",
              "      <td>Mall del Río</td>\n",
              "      <td></td>\n",
              "      <td>POLYGON Z ((-79.90537 -2.12544 0, -79.90532 -2...</td>\n",
              "    </tr>\n",
              "    <tr>\n",
              "      <th>3</th>\n",
              "      <td>Mall del Sol</td>\n",
              "      <td></td>\n",
              "      <td>POLYGON Z ((-79.89463 -2.1547 0, -79.8946 -2.1...</td>\n",
              "    </tr>\n",
              "    <tr>\n",
              "      <th>4</th>\n",
              "      <td>La Rotonda</td>\n",
              "      <td></td>\n",
              "      <td>POLYGON Z ((-79.90882 -2.13974 0, -79.90854 -2...</td>\n",
              "    </tr>\n",
              "  </tbody>\n",
              "</table>\n",
              "</div>\n",
              "    <div class=\"colab-df-buttons\">\n",
              "\n",
              "  <div class=\"colab-df-container\">\n",
              "    <button class=\"colab-df-convert\" onclick=\"convertToInteractive('df-cee4f6c2-74b5-4110-9247-3c58f68ce6fc')\"\n",
              "            title=\"Convert this dataframe to an interactive table.\"\n",
              "            style=\"display:none;\">\n",
              "\n",
              "  <svg xmlns=\"http://www.w3.org/2000/svg\" height=\"24px\" viewBox=\"0 -960 960 960\">\n",
              "    <path d=\"M120-120v-720h720v720H120Zm60-500h600v-160H180v160Zm220 220h160v-160H400v160Zm0 220h160v-160H400v160ZM180-400h160v-160H180v160Zm440 0h160v-160H620v160ZM180-180h160v-160H180v160Zm440 0h160v-160H620v160Z\"/>\n",
              "  </svg>\n",
              "    </button>\n",
              "\n",
              "  <style>\n",
              "    .colab-df-container {\n",
              "      display:flex;\n",
              "      gap: 12px;\n",
              "    }\n",
              "\n",
              "    .colab-df-convert {\n",
              "      background-color: #E8F0FE;\n",
              "      border: none;\n",
              "      border-radius: 50%;\n",
              "      cursor: pointer;\n",
              "      display: none;\n",
              "      fill: #1967D2;\n",
              "      height: 32px;\n",
              "      padding: 0 0 0 0;\n",
              "      width: 32px;\n",
              "    }\n",
              "\n",
              "    .colab-df-convert:hover {\n",
              "      background-color: #E2EBFA;\n",
              "      box-shadow: 0px 1px 2px rgba(60, 64, 67, 0.3), 0px 1px 3px 1px rgba(60, 64, 67, 0.15);\n",
              "      fill: #174EA6;\n",
              "    }\n",
              "\n",
              "    .colab-df-buttons div {\n",
              "      margin-bottom: 4px;\n",
              "    }\n",
              "\n",
              "    [theme=dark] .colab-df-convert {\n",
              "      background-color: #3B4455;\n",
              "      fill: #D2E3FC;\n",
              "    }\n",
              "\n",
              "    [theme=dark] .colab-df-convert:hover {\n",
              "      background-color: #434B5C;\n",
              "      box-shadow: 0px 1px 3px 1px rgba(0, 0, 0, 0.15);\n",
              "      filter: drop-shadow(0px 1px 2px rgba(0, 0, 0, 0.3));\n",
              "      fill: #FFFFFF;\n",
              "    }\n",
              "  </style>\n",
              "\n",
              "    <script>\n",
              "      const buttonEl =\n",
              "        document.querySelector('#df-cee4f6c2-74b5-4110-9247-3c58f68ce6fc button.colab-df-convert');\n",
              "      buttonEl.style.display =\n",
              "        google.colab.kernel.accessAllowed ? 'block' : 'none';\n",
              "\n",
              "      async function convertToInteractive(key) {\n",
              "        const element = document.querySelector('#df-cee4f6c2-74b5-4110-9247-3c58f68ce6fc');\n",
              "        const dataTable =\n",
              "          await google.colab.kernel.invokeFunction('convertToInteractive',\n",
              "                                                    [key], {});\n",
              "        if (!dataTable) return;\n",
              "\n",
              "        const docLinkHtml = 'Like what you see? Visit the ' +\n",
              "          '<a target=\"_blank\" href=https://colab.research.google.com/notebooks/data_table.ipynb>data table notebook</a>'\n",
              "          + ' to learn more about interactive tables.';\n",
              "        element.innerHTML = '';\n",
              "        dataTable['output_type'] = 'display_data';\n",
              "        await google.colab.output.renderOutput(dataTable, element);\n",
              "        const docLink = document.createElement('div');\n",
              "        docLink.innerHTML = docLinkHtml;\n",
              "        element.appendChild(docLink);\n",
              "      }\n",
              "    </script>\n",
              "  </div>\n",
              "\n",
              "\n",
              "<div id=\"df-5ad56a3f-b0ad-446c-960b-6709853a7120\">\n",
              "  <button class=\"colab-df-quickchart\" onclick=\"quickchart('df-5ad56a3f-b0ad-446c-960b-6709853a7120')\"\n",
              "            title=\"Suggest charts\"\n",
              "            style=\"display:none;\">\n",
              "\n",
              "<svg xmlns=\"http://www.w3.org/2000/svg\" height=\"24px\"viewBox=\"0 0 24 24\"\n",
              "     width=\"24px\">\n",
              "    <g>\n",
              "        <path d=\"M19 3H5c-1.1 0-2 .9-2 2v14c0 1.1.9 2 2 2h14c1.1 0 2-.9 2-2V5c0-1.1-.9-2-2-2zM9 17H7v-7h2v7zm4 0h-2V7h2v10zm4 0h-2v-4h2v4z\"/>\n",
              "    </g>\n",
              "</svg>\n",
              "  </button>\n",
              "\n",
              "<style>\n",
              "  .colab-df-quickchart {\n",
              "      --bg-color: #E8F0FE;\n",
              "      --fill-color: #1967D2;\n",
              "      --hover-bg-color: #E2EBFA;\n",
              "      --hover-fill-color: #174EA6;\n",
              "      --disabled-fill-color: #AAA;\n",
              "      --disabled-bg-color: #DDD;\n",
              "  }\n",
              "\n",
              "  [theme=dark] .colab-df-quickchart {\n",
              "      --bg-color: #3B4455;\n",
              "      --fill-color: #D2E3FC;\n",
              "      --hover-bg-color: #434B5C;\n",
              "      --hover-fill-color: #FFFFFF;\n",
              "      --disabled-bg-color: #3B4455;\n",
              "      --disabled-fill-color: #666;\n",
              "  }\n",
              "\n",
              "  .colab-df-quickchart {\n",
              "    background-color: var(--bg-color);\n",
              "    border: none;\n",
              "    border-radius: 50%;\n",
              "    cursor: pointer;\n",
              "    display: none;\n",
              "    fill: var(--fill-color);\n",
              "    height: 32px;\n",
              "    padding: 0;\n",
              "    width: 32px;\n",
              "  }\n",
              "\n",
              "  .colab-df-quickchart:hover {\n",
              "    background-color: var(--hover-bg-color);\n",
              "    box-shadow: 0 1px 2px rgba(60, 64, 67, 0.3), 0 1px 3px 1px rgba(60, 64, 67, 0.15);\n",
              "    fill: var(--button-hover-fill-color);\n",
              "  }\n",
              "\n",
              "  .colab-df-quickchart-complete:disabled,\n",
              "  .colab-df-quickchart-complete:disabled:hover {\n",
              "    background-color: var(--disabled-bg-color);\n",
              "    fill: var(--disabled-fill-color);\n",
              "    box-shadow: none;\n",
              "  }\n",
              "\n",
              "  .colab-df-spinner {\n",
              "    border: 2px solid var(--fill-color);\n",
              "    border-color: transparent;\n",
              "    border-bottom-color: var(--fill-color);\n",
              "    animation:\n",
              "      spin 1s steps(1) infinite;\n",
              "  }\n",
              "\n",
              "  @keyframes spin {\n",
              "    0% {\n",
              "      border-color: transparent;\n",
              "      border-bottom-color: var(--fill-color);\n",
              "      border-left-color: var(--fill-color);\n",
              "    }\n",
              "    20% {\n",
              "      border-color: transparent;\n",
              "      border-left-color: var(--fill-color);\n",
              "      border-top-color: var(--fill-color);\n",
              "    }\n",
              "    30% {\n",
              "      border-color: transparent;\n",
              "      border-left-color: var(--fill-color);\n",
              "      border-top-color: var(--fill-color);\n",
              "      border-right-color: var(--fill-color);\n",
              "    }\n",
              "    40% {\n",
              "      border-color: transparent;\n",
              "      border-right-color: var(--fill-color);\n",
              "      border-top-color: var(--fill-color);\n",
              "    }\n",
              "    60% {\n",
              "      border-color: transparent;\n",
              "      border-right-color: var(--fill-color);\n",
              "    }\n",
              "    80% {\n",
              "      border-color: transparent;\n",
              "      border-right-color: var(--fill-color);\n",
              "      border-bottom-color: var(--fill-color);\n",
              "    }\n",
              "    90% {\n",
              "      border-color: transparent;\n",
              "      border-bottom-color: var(--fill-color);\n",
              "    }\n",
              "  }\n",
              "</style>\n",
              "\n",
              "  <script>\n",
              "    async function quickchart(key) {\n",
              "      const quickchartButtonEl =\n",
              "        document.querySelector('#' + key + ' button');\n",
              "      quickchartButtonEl.disabled = true;  // To prevent multiple clicks.\n",
              "      quickchartButtonEl.classList.add('colab-df-spinner');\n",
              "      try {\n",
              "        const charts = await google.colab.kernel.invokeFunction(\n",
              "            'suggestCharts', [key], {});\n",
              "      } catch (error) {\n",
              "        console.error('Error during call to suggestCharts:', error);\n",
              "      }\n",
              "      quickchartButtonEl.classList.remove('colab-df-spinner');\n",
              "      quickchartButtonEl.classList.add('colab-df-quickchart-complete');\n",
              "    }\n",
              "    (() => {\n",
              "      let quickchartButtonEl =\n",
              "        document.querySelector('#df-5ad56a3f-b0ad-446c-960b-6709853a7120 button');\n",
              "      quickchartButtonEl.style.display =\n",
              "        google.colab.kernel.accessAllowed ? 'block' : 'none';\n",
              "    })();\n",
              "  </script>\n",
              "</div>\n",
              "\n",
              "    </div>\n",
              "  </div>\n"
            ],
            "application/vnd.google.colaboratory.intrinsic+json": {
              "type": "dataframe",
              "variable_name": "gdf",
              "summary": "{\n  \"name\": \"gdf\",\n  \"rows\": 17,\n  \"fields\": [\n    {\n      \"column\": \"Name\",\n      \"properties\": {\n        \"dtype\": \"string\",\n        \"num_unique_values\": 17,\n        \"samples\": [\n          \"City Mall\",\n          \"Riocentro Norte\",\n          \"San Marino\"\n        ],\n        \"semantic_type\": \"\",\n        \"description\": \"\"\n      }\n    },\n    {\n      \"column\": \"Description\",\n      \"properties\": {\n        \"dtype\": \"object\",\n        \"num_unique_values\": 1,\n        \"samples\": [\n          \"\"\n        ],\n        \"semantic_type\": \"\",\n        \"description\": \"\"\n      }\n    },\n    {\n      \"column\": \"geometry\",\n      \"properties\": {\n        \"dtype\": \"geometry\",\n        \"num_unique_values\": 17,\n        \"samples\": [\n          \"POLYGON Z ((-79.9104909638874 -2.141464911178055 0, -79.90920697827956 -2.142056722686349 0, -79.90883204393889 -2.141372089475076 0, -79.90873322860023 -2.141106553278178 0, -79.90876425832452 -2.140437954517727 0, -79.90898981165692 -2.139999165295831 0, -79.90940145138289 -2.139768796702004 0, -79.90961227211578 -2.139678826275221 0, -79.90964011350987 -2.139681697684126 0, -79.9104909638874 -2.141464911178055 0))\"\n        ],\n        \"semantic_type\": \"\",\n        \"description\": \"\"\n      }\n    }\n  ]\n}"
            }
          },
          "metadata": {},
          "execution_count": 4
        }
      ]
    },
    {
      "cell_type": "code",
      "source": [
        "# Extract coordinates and convert to Web Mercator\n",
        "gdf[\"xs\"] = gdf.geometry.apply(\n",
        "    lambda geom: [latlon_to_web_mercator(lat, lon)[0] for lon, lat in extract_coords(geom)]\n",
        ")\n",
        "gdf[\"ys\"] = gdf.geometry.apply(\n",
        "    lambda geom: [latlon_to_web_mercator(lat, lon)[1] for lon, lat in extract_coords(geom)]\n",
        ")"
      ],
      "metadata": {
        "id": "z1GD-WMdiKQC"
      },
      "execution_count": 5,
      "outputs": []
    },
    {
      "cell_type": "code",
      "source": [
        "# Create a Bokeh ColumnDataSource\n",
        "source = ColumnDataSource({\n",
        "    \"xs\": gdf[\"xs\"],\n",
        "    \"ys\": gdf[\"ys\"],\n",
        "    \"name\": gdf[\"Name\"],  # Add additional columns if needed\n",
        "})\n",
        "\n",
        "source"
      ],
      "metadata": {
        "colab": {
          "base_uri": "https://localhost:8080/",
          "height": 34
        },
        "id": "XLVrk6ioiKJZ",
        "outputId": "3ca91b6a-2f9c-4448-e83a-28e89f934433"
      },
      "execution_count": 6,
      "outputs": [
        {
          "output_type": "execute_result",
          "data": {
            "text/plain": [
              "ColumnDataSource(id='1002', ...)"
            ],
            "text/html": [
              "<div style=\"display: table;\"><div style=\"display: table-row;\"><div style=\"display: table-cell;\"><b title=\"bokeh.models.sources.ColumnDataSource\">ColumnDataSource</b>(</div><div style=\"display: table-cell;\">id&nbsp;=&nbsp;'1002', <span id=\"1004\" style=\"cursor: pointer;\">&hellip;)</span></div></div><div class=\"1003\" style=\"display: none;\"><div style=\"display: table-cell;\"></div><div style=\"display: table-cell;\">data&nbsp;=&nbsp;{'xs': [[-8895595.163140435, -8895452.230516383, -8895410.4930165, -8895399.492943317, -8895402.947156426, -8895428.055638535, -8895473.87916322, -8895497.347619854, -8895500.446909666, -8895595.163140435], [-8895049.739817502, -8895245.876060214, -8895262.353564164, -8895155.259343613, -8895049.739817502], [-8895025.423400288, -8895019.347321074, -8895013.967805546, -8895009.28624717, -8895004.969750756, -8895000.618254147, -8894998.764866415, -8895241.733226165, -8895244.234362278, -8895025.423400288], [-8893829.572073234, -8893826.302175818, -8893798.31293778, -8893761.994324455, -8893718.738820828, -8893703.601956394, -8893676.573520608, -8893662.588159304, -8893625.520904904, -8893595.433715146, -8893558.59336566, -8893531.831550429, -8893502.89355378, -8893469.913377877, -8893438.06992228, -8893405.267376775, -8893396.986914687, -8893403.3525275, -8893412.68536345, -8893417.791584551, -8893426.634171365, -8893501.8478742, -8893541.916630192, -8893583.553094313, -8893599.326036818, -8893617.581606993, -8893632.025688551, -8893646.377461469, -8893664.182057137, -8893674.9783517, -8893685.909867892, -8893702.236933118, -8893713.77952755, -8893736.887834538, -8893758.527726285, -8893774.29518364, -8893791.355632681, -8893831.010592762, -8893829.572073234], [-8895409.31742819, -8895378.070988717, -8895349.990137713, -8895318.982348692, -8895307.474034827, -8895300.835597761, -8895290.7686016, -8895281.781638617, -8895260.824637627, -8895237.83010997, -8895211.860537427, -8895193.324269949, -8895179.45915066, -8895207.401433041, -8895250.387632972, -8895271.784139883, -8895280.586125009, -8895293.603514051, -8895307.420691198, -8895318.116131604, -8895319.77291686, -8895333.118771082, -8895356.039904043, -8895371.838131163, -8895387.246489897, -8895399.88242403, -8895412.770927003, -8895425.766710902, -8895439.842973068, -8895420.918735765, -8895405.033126157, -8895395.026804851, -8895409.31742819], [-8894343.578174269, -8894304.3848746, -8894268.19798065, -8894241.947460119, -8894217.664444704, -8894203.09652736, -8894172.208799873, -8894145.392871244, -8894133.51181934, -8894161.510635428, -8894190.160390448, -8894225.94751963, -8894244.155263875, -8894259.735351378, -8894283.83197719, -8894312.006403027, -8894331.880419262, -8894343.578174269], [-8894324.295835283, -8894313.701817133, -8894300.239820499, -8894296.53812672, -8894296.371501187, -8894298.061314022, -8894297.361052556, -8894304.520260397, -8894307.644117735, -8894307.944348859, -8894310.623479236, -8894314.970049746, -8894319.238851162, -8894318.705337161, -8894319.439074375, -8894323.652266853, -8894326.220212705, -8894336.7919861, -8894342.983862244, -8894355.01185307, -8894364.849888239, -8894372.887056382, -8894417.55279669, -8894445.410539173, -8894478.512650982, -8894491.8830857, -8894497.664323883, -8894503.59162146, -8894503.631132431, -8894508.942298913, -8894515.340418214, -8894521.730575075, -8894525.52148246, -8894531.225227317, -8894533.507464211, -8894540.574091624, -8894547.078661237, -8894548.546228372, -8894544.38044535, -8894535.196617069, -8894525.080833187, -8894500.701971708, -8894446.87431903, -8894360.009608703, -8894333.90659687, -8894324.295835283], [-8899777.494121382, -8899847.15418209, -8899886.816809531, -8899903.844503965, -8899924.190532701, -8899930.622089323, -8899926.474520843, -8899922.17013209, -8899929.96265211, -8899943.590152625, -8899954.802354213, -8899963.635261817, -8899967.741636138, -8899970.348215263, -8899964.504180435, -8899952.500345167, -8899943.272492813, -8899927.584989164, -8899909.58893692, -8899897.128071938, -8899886.945580188, -8899879.61635952, -8899872.397000246, -8899864.346985402, -8899849.915211547, -8899839.078062853, -8899830.155776229, -8899817.103116998, -8899803.333762076, -8899792.590392333, -8899785.448646365, -8899780.841780042, -8899778.948057363, -8899779.350002974, -8899777.473001966, -8899782.285220286, -8899784.729192583, -8899781.367630929, -8899784.574440438, -8899783.239207624, -8899784.873719502, -8899779.585298402, -8899776.999130607, -8899778.859056756, -8899778.87551194, -8899783.093956811, -8899786.314163607, -8899785.583708473, -8899784.961028682, -8899778.300122187, -8899777.33164619, -8899779.922119549, -8899786.220039831, -8899786.021397619, -8899784.92378059, -8899780.378435288, -8899773.374300105, -8899777.494121382], [-8892316.70091424, -8892312.333117092, -8892288.649507172, -8892259.71805261, -8892240.556619797, -8892240.629316414, -8892253.368424475, -8892261.005852306, -8892270.919239357, -8892277.331204245, -8892283.992409227, -8892288.195355568, -8892290.05627107, -8892291.602680111, -8892296.485981714, -8892302.04252959, -8892306.948957905, -8892312.234610837, -8892318.650575813, -8892326.131821584, -8892326.78971376, -8892336.33711073, -8892341.876786785, -8892348.190414572, -8892330.131418996, -8892316.70091424], [-8899172.861292912, -8899235.782904275, -8899320.692347223, -8899356.745486103, -8899365.756607475, -8899370.057817763, -8899374.90895833, -8899381.03765371, -8899388.840086306, -8899391.214582514, -8899381.781452175, -8899361.14178704, -8899330.62607754, -8899298.329543458, -8899279.51372736, -8899172.861292912], [-8899188.030400485, -8899213.958425984, -8899242.271735827, -8899279.672324281, -8899279.024393972, -8899257.819749897, -8899233.954720424, -8899192.984866826, -8899138.858507702, -8899114.19193904, -8899104.715965834, -8899071.018042231, -8899062.457308708, -8899029.356918558, -8898998.619548725, -8899029.893954981, -8899048.772796279, -8899098.821884882, -8899135.59016957, -8899188.030400485], [-8891644.3762175, -8891656.725987686, -8891705.95181203, -8891724.927518602, -8891731.368022164, -8891756.373525022, -8891771.560403455, -8891792.140680794, -8891785.856275866, -8891754.912385562, -8891722.018030213, -8891680.85167412, -8891658.960432945, -8891636.196638761, -8891605.950439021, -8891584.99566578, -8891558.731788483, -8891522.810798317, -8891494.651567968, -8891463.209807443, -8891434.262286026, -8891390.35254664, -8891350.489088258, -8891310.996310113, -8891295.763982123, -8891277.388987178, -8891278.312995275, -8891272.996920574, -8891272.69769222, -8891255.079443535, -8891254.67499728, -8891245.017871445, -8891242.44742325, -8891289.125363527, -8891310.103677168, -8891332.55360168, -8891373.203173164, -8891414.22163811, -8891449.385656763, -8891487.21504579, -8891510.47551637, -8891543.770678474, -8891590.041450169, -8891612.4523219, -8891612.044569802, -8891618.995066714, -8891630.319295011, -8891638.947486885, -8891644.3762175], [-8890400.879866866, -8890416.372200293, -8890447.543763628, -8890494.63580609, -8890525.982326204, -8890545.793538295, -8890562.210938355, -8890569.249264574, -8890578.923959976, -8890588.562440554, -8890600.073336337, -8890606.962395009, -8890603.53783211, -8890586.064569633, -8890552.072048355, -8890510.907003198, -8890472.604046404, -8890436.541437687, -8890415.81331299, -8890409.704240913, -8890404.34587571, -8890400.879866866], [-8890526.137756234, -8890528.901249029, -8890531.575701458, -8890536.682556175, -8890538.089888208, -8890531.824383553, -8890523.788752109, -8890507.86381271, -8890499.140441649, -8890482.852518862, -8890457.66293963, -8890438.999979474, -8890414.389812088, -8890399.89750127, -8890395.956070002, -8890395.217484662, -8890392.880645648, -8890393.498285765, -8890390.849420518, -8890389.875176044, -8890392.020996308, -8890400.145817839, -8890424.33563116, -8890440.948208418, -8890448.449008206, -8890448.888341695, -8890465.972091574, -8890464.800456053, -8890463.278613528, -8890464.017215556, -8890462.565407317, -8890463.093870852, -8890522.09443454, -8890526.137756234], [-8894217.56540128, -8894251.349736936, -8894279.427543879, -8894300.951687304, -8894308.50526897, -8894309.13038582, -8894314.228364006, -8894317.050159894, -8894319.402803589, -8894324.280735455, -8894327.524950972, -8894330.757612213, -8894307.949462226, -8894290.500843566, -8894259.608526396, -8894229.73695574, -8894199.418292139, -8894181.284295335, -8894189.691756109, -8894194.663192444, -8894202.41572358, -8894208.902333625, -8894211.92693632, -8894214.655681448, -8894215.63767458, -8894216.313706294, -8894217.56540128], [-8893679.342322221, -8893669.794833217, -8893674.281876741, -8893679.943257546, -8893683.652782887, -8893803.60068368, -8893800.204999937, -8893804.832256077, -8893805.841013398, -8893793.648377758, -8893795.711694285, -8893799.102444183, -8893809.921224883, -8893825.324143518, -8893847.393518688, -8893875.863074798, -8893901.141759306, -8893938.490043435, -8893948.621473996, -8893949.859462954, -8893945.020492818, -8893939.733742692, -8893928.45963157, -8893923.67848022, -8893679.342322221], [-8896323.420795105, -8896287.865923256, -8896253.691732727, -8896242.684850454, -8896219.29338137, -8896182.415600996, -8896142.183177669, -8896138.502020761, -8896140.947807642, -8896130.286153696, -8896150.711174626, -8896187.57349136, -8896222.314745614, -8896260.80128044, -8896299.363535384, -8896341.4198115, -8896394.633397348, -8896426.834176764, -8896456.391936349, -8896323.420795105]], 'ys': [[-238442.30472093908, -238508.23093141706, -238431.9646351615, -238402.3846269973, -238327.9045711787, -238279.0246810756, -238253.3622706729, -238243.3398204046, -238243.65968720042, -238442.30472093908], [-236749.60943759163, -236749.82156807889, -237043.50888571716, -237045.18442149612, -236749.60943759163], [-236656.7206166425, -236647.5072320917, -236634.73828836353, -236618.76906247955, -236605.28536758455, -236582.9197648232, -236563.38656231738, -236552.12633898412, -236645.9109014351, -236656.7206166425], [-239916.6200469833, -239968.98689098022, -240014.29371453772, -240054.63090088047, -240093.8394138438, -240098.5747515836, -240082.05939337675, -240072.53288962384, -240063.17030169463, -240061.27861006212, -240054.9495296142, -240055.87090331176, -240054.720251206, -240051.8709472307, -240049.76172016878, -240051.1360293076, -240043.51436556742, -239993.660293246, -239950.5113066613, -239907.18289930813, -239886.80522605075, -239892.9727833012, -239896.05117871606, -239896.24737285377, -239887.1066712759, -239872.7001761701, -239859.64338301172, -239852.74090094576, -239873.48397922676, -239890.85394100822, -239911.8945201175, -239928.63846535067, -239929.4427646379, -239916.31185581503, -239905.4299480923, -239894.05622456656, -239923.90018150525, -239900.44649451913, -239916.6200469833], [-238249.662601872, -238264.17616022733, -238275.3032932257, -238268.21561043581, -238256.9443672145, -238247.2910262971, -238238.28410028742, -238237.69605231963, -238223.38782862388, -238207.68853267434, -238186.9708547962, -238174.74220219508, -238164.42247963496, -238121.6211938175, -238150.54288049703, -238165.0735473724, -238155.82095003276, -238138.8925442875, -238118.3810663192, -238103.94477471252, -238101.20798460447, -238111.97981085704, -238116.4945479614, -238118.2574482926, -238111.575233738, -238108.5236657178, -238131.31696701958, -238164.0994622943, -238197.45431945805, -238210.20245545983, -238215.99903714968, -238222.422304, -238249.662601872], [-241595.32326841608, -241631.55817247607, -241653.86443745514, -241647.049707012, -241610.6141108085, -241594.72674788418, -241550.93521907702, -241514.68356279994, -241499.38514041418, -241480.31627743138, -241458.0663356323, -241432.94882746693, -241455.8195899904, -241481.6228526683, -241519.54062076105, -241556.96725095535, -241582.5576270266, -241595.32326841608], [-241886.78591404148, -241884.94060366455, -241874.72454884736, -241864.58630111231, -241852.78056668187, -241842.62009705912, -241835.02753799845, -241815.0846081263, -241799.56606769355, -241786.45979984562, -241777.63337854244, -241772.34197174603, -241757.72391378946, -241742.85017931985, -241729.8995845055, -241711.34634439845, -241694.6495366284, -241672.01661074156, -241656.13130895956, -241633.53171082088, -241623.84936245522, -241616.4569852003, -241587.46552565778, -241567.12246028156, -241549.96891345867, -241557.31881216605, -241573.80223260645, -241595.54954795598, -241624.27152062263, -241654.51324653218, -241695.5534042498, -241698.5771271617, -241714.2743540399, -241733.08710591582, -241748.47755190407, -241775.65458786656, -241799.8883269611, -241813.1789381815, -241823.69022402595, -241837.31000441345, -241845.10632903007, -241850.89912277026, -241862.6273798869, -241883.12590201537, -241888.2451140178, -241886.78591404148], [-234656.07615174568, -234657.76105226873, -234660.57267482605, -234706.8902874082, -234764.6036586196, -234785.00415129054, -234795.7291132132, -234813.74202683542, -234838.17611622703, -234876.6823548614, -234903.5873758631, -234932.65998549474, -234943.96823261285, -234959.79920105956, -234970.4959190724, -234969.49508066115, -234964.38851105858, -234961.4475899962, -234960.58646192207, -234964.86453616555, -234963.44817887066, -234961.98050608436, -234963.32750458157, -234963.48358131642, -234964.16409729596, -234963.17330069092, -234958.9513882057, -234961.2083898511, -234964.2684631961, -234973.62059871882, -234972.1619327968, -234963.9120489631, -234954.4254734377, -234919.88502958004, -234899.29345747354, -234890.41688682506, -234881.20383724006, -234874.95211893113, -234853.3860121227, -234825.60785326752, -234804.06990213384, -234799.12384100351, -234792.47921167288, -234777.69254589776, -234766.56155263731, -234763.1813082663, -234753.4773815071, -234743.56380893927, -234736.8296182852, -234737.9648295405, -234709.3864646914, -234704.47046970334, -234704.12048208606, -234686.61104609253, -234677.51650874055, -234671.41854443593, -234662.2973670112, -234656.07615174568], [-244926.15432056895, -244918.1496402599, -244817.3958385635, -244703.48241577897, -244627.580923071, -244621.98975353612, -244616.62345248397, -244616.46422743518, -244624.49445003565, -244648.46323746588, -244672.02342838893, -244686.73419338276, -244697.44292281553, -244706.83410234604, -244727.3047040828, -244737.5151394723, -244755.17783062358, -244775.88292233445, -244807.13522789066, -244828.3329559652, -244847.06625162292, -244874.0155515581, -244892.88370937383, -244916.44849276298, -244926.69850441278, -244926.15432056895], [-242269.77608168547, -242217.45375088145, -242145.6747017217, -242121.5484849043, -242114.63973551558, -242144.70975195224, -242180.0510224504, -242204.7289030678, -242248.4346476917, -242280.5405678467, -242313.4621343769, -242337.50976713782, -242361.29842506265, -242388.15475563516, -242403.271945642, -242269.77608168547], [-242389.43596218104, -242412.40492954498, -242447.10123155877, -242493.4444317559, -242499.45532153745, -242516.1734418307, -242539.00454698203, -242572.284252713, -242625.1085992004, -242648.08376843962, -242631.7085570053, -242655.3633852371, -242643.35362012827, -242603.75144732636, -242560.00274649047, -242532.33393751917, -242514.78913366233, -242472.07796317185, -242438.44661405485, -242389.43596218104], [-228469.25046030077, -228488.79260444653, -228590.33442931285, -228621.63357766924, -228671.6650456844, -228716.639395377, -228747.01683480898, -228794.80372086068, -228808.81459085172, -228837.61999103427, -228857.6840485233, -228878.74701734705, -228892.10128397052, -228903.74849072957, -228915.99318943793, -228931.02181680422, -228964.82466628923, -228992.7967466038, -229024.17436696685, -229057.12452315234, -229091.82266956058, -229106.98005615154, -229103.2173114996, -229084.09500086404, -229048.71391116243, -228998.71824888245, -228948.87702765942, -228915.13047125418, -228879.49516796172, -228778.32902353888, -228734.71311012327, -228703.86023974934, -228657.59377583294, -228651.33256076465, -228653.35301060992, -228644.56937337093, -228619.26312134438, -228602.78424582598, -228583.89236481162, -228563.63586265573, -228549.02732776225, -228531.08761356905, -228511.02344344338, -228499.55649968024, -228484.3357282184, -228470.67924724668, -228468.5684009324, -228467.82481493262, -228469.25046030077], [-238415.4466486748, -238412.12119838456, -238409.42727149956, -238405.65008212742, -238405.51474792615, -238409.1351824562, -238426.65703194778, -238444.52372366175, -238468.99065546654, -238489.64822340777, -238521.65006371026, -238539.43703192953, -238548.29114639616, -238551.95273541738, -238557.59117953884, -238567.51300452993, -238578.57247825683, -238585.2069811892, -238587.34276702543, -238582.7904011189, -238477.93918472662, -238415.4466486748], [-238188.39291631512, -238216.70883542215, -238272.84397347784, -238314.0157525625, -238338.20568168492, -238348.87116847836, -238364.24223029095, -238372.7937478451, -238378.7091344488, -238377.42928423284, -238379.61335897402, -238379.5624644155, -238384.87304651673, -238379.23788726275, -238368.6105795258, -238339.09101048287, -238311.80015895682, -238286.40685902492, -238269.34855016356, -238251.11227486012, -238246.73148953955, -238242.26792057467, -238240.86068293222, -238241.76482458017, -238238.40281856767, -238229.92142974868, -238227.62275930127, -238211.51321246478, -238195.4291270224, -238186.22182990806, -238166.25994540448, -238149.32254835355, -238176.36485412958, -238188.39291631512], [-248088.25613357665, -248081.1159601317, -248078.61722333438, -248081.71166341178, -248098.5206150313, -248137.45642149705, -248166.2925313052, -248208.8831504103, -248250.48259001208, -248280.7428394909, -248309.34576593334, -248326.93240026635, -248332.17787435747, -248332.11589014315, -248334.9701988375, -248338.72442807409, -248344.1308381125, -248342.65640079233, -248306.66188660762, -248284.23204409424, -248231.70831967625, -248201.21378210373, -248165.793235347, -248144.1110315478, -248121.48199457978, -248108.0167692327, -248088.25613357665], [-249672.48206267157, -249671.67681696988, -249641.73680679407, -249607.17504275875, -249571.68040382754, -249581.31761255843, -249567.97107841348, -249542.1469408477, -249533.80601949865, -249518.24244668678, -249509.5174050985, -249493.97757163443, -249483.48500100485, -249480.16270006908, -249482.27984626737, -249486.29488897292, -249489.85989958848, -249497.55490310508, -249503.82235329974, -249524.80471270514, -249560.91586259706, -249612.42788253244, -249670.53108269078, -249710.06507035074, -249672.48206267157], [-241626.26951746637, -241630.78366770904, -241626.20813105826, -241622.84860625007, -241601.17149094597, -241564.94839202726, -241527.98343775127, -241512.8591217514, -241476.5585058562, -241451.69660288742, -241426.17958734152, -241397.91059439865, -241369.14400522877, -241343.1093874298, -241339.2695954517, -241353.72979219543, -241403.12437191638, -241450.96429017998, -241497.41647129695, -241626.26951746637]], 'name': ['City Mall', 'Riocentro Norte', 'Mall del Río', 'Mall del Sol', 'La Rotonda', 'San Marino', 'Policentro', 'Mall El Fortín', 'C.C. Malecón', 'Riocentro Ceibos 1', 'Riocentro Ceibos 2', 'Riocentro El Dorado', 'Riocentro Entre Ríos', 'Village Plaza', 'Mall del Sur', 'Riocentro Sur', 'Albán Borja']},</div></div><div class=\"1003\" style=\"display: none;\"><div style=\"display: table-cell;\"></div><div style=\"display: table-cell;\">js_event_callbacks&nbsp;=&nbsp;{},</div></div><div class=\"1003\" style=\"display: none;\"><div style=\"display: table-cell;\"></div><div style=\"display: table-cell;\">js_property_callbacks&nbsp;=&nbsp;{},</div></div><div class=\"1003\" style=\"display: none;\"><div style=\"display: table-cell;\"></div><div style=\"display: table-cell;\">name&nbsp;=&nbsp;None,</div></div><div class=\"1003\" style=\"display: none;\"><div style=\"display: table-cell;\"></div><div style=\"display: table-cell;\">selected&nbsp;=&nbsp;Selection(id='1006', ...),</div></div><div class=\"1003\" style=\"display: none;\"><div style=\"display: table-cell;\"></div><div style=\"display: table-cell;\">selection_policy&nbsp;=&nbsp;UnionRenderers(id='1005', ...),</div></div><div class=\"1003\" style=\"display: none;\"><div style=\"display: table-cell;\"></div><div style=\"display: table-cell;\">subscribed_events&nbsp;=&nbsp;[],</div></div><div class=\"1003\" style=\"display: none;\"><div style=\"display: table-cell;\"></div><div style=\"display: table-cell;\">syncable&nbsp;=&nbsp;True,</div></div><div class=\"1003\" style=\"display: none;\"><div style=\"display: table-cell;\"></div><div style=\"display: table-cell;\">tags&nbsp;=&nbsp;[])</div></div></div>\n",
              "<script>\n",
              "(function() {\n",
              "  let expanded = false;\n",
              "  const ellipsis = document.getElementById(\"1004\");\n",
              "  ellipsis.addEventListener(\"click\", function() {\n",
              "    const rows = document.getElementsByClassName(\"1003\");\n",
              "    for (let i = 0; i < rows.length; i++) {\n",
              "      const el = rows[i];\n",
              "      el.style.display = expanded ? \"none\" : \"table-row\";\n",
              "    }\n",
              "    ellipsis.innerHTML = expanded ? \"&hellip;)\" : \"&lsaquo;&lsaquo;&lsaquo;\";\n",
              "    expanded = !expanded;\n",
              "  });\n",
              "})();\n",
              "</script>\n"
            ]
          },
          "metadata": {},
          "execution_count": 6
        }
      ]
    },
    {
      "cell_type": "code",
      "source": [
        "idx_mall = 0\n",
        "\n",
        "gdf_mall = gdf.iloc[idx_mall]\n",
        "gdf_mall"
      ],
      "metadata": {
        "colab": {
          "base_uri": "https://localhost:8080/",
          "height": 241
        },
        "id": "JsoBaBywi1sZ",
        "outputId": "7a6b416f-6bf6-43dc-b303-bf34e48e120a"
      },
      "execution_count": 8,
      "outputs": [
        {
          "output_type": "execute_result",
          "data": {
            "text/plain": [
              "Name                                                   City Mall\n",
              "Description                                                     \n",
              "geometry       POLYGON Z ((-79.9104909638874 -2.1414649111780...\n",
              "xs             [-8895595.163140435, -8895452.230516383, -8895...\n",
              "ys             [-238442.30472093908, -238508.23093141706, -23...\n",
              "Name: 0, dtype: object"
            ],
            "text/html": [
              "<div>\n",
              "<style scoped>\n",
              "    .dataframe tbody tr th:only-of-type {\n",
              "        vertical-align: middle;\n",
              "    }\n",
              "\n",
              "    .dataframe tbody tr th {\n",
              "        vertical-align: top;\n",
              "    }\n",
              "\n",
              "    .dataframe thead th {\n",
              "        text-align: right;\n",
              "    }\n",
              "</style>\n",
              "<table border=\"1\" class=\"dataframe\">\n",
              "  <thead>\n",
              "    <tr style=\"text-align: right;\">\n",
              "      <th></th>\n",
              "      <th>0</th>\n",
              "    </tr>\n",
              "  </thead>\n",
              "  <tbody>\n",
              "    <tr>\n",
              "      <th>Name</th>\n",
              "      <td>City Mall</td>\n",
              "    </tr>\n",
              "    <tr>\n",
              "      <th>Description</th>\n",
              "      <td></td>\n",
              "    </tr>\n",
              "    <tr>\n",
              "      <th>geometry</th>\n",
              "      <td>POLYGON Z ((-79.9104909638874 -2.1414649111780...</td>\n",
              "    </tr>\n",
              "    <tr>\n",
              "      <th>xs</th>\n",
              "      <td>[-8895595.163140435, -8895452.230516383, -8895...</td>\n",
              "    </tr>\n",
              "    <tr>\n",
              "      <th>ys</th>\n",
              "      <td>[-238442.30472093908, -238508.23093141706, -23...</td>\n",
              "    </tr>\n",
              "  </tbody>\n",
              "</table>\n",
              "</div><br><label><b>dtype:</b> object</label>"
            ]
          },
          "metadata": {},
          "execution_count": 8
        }
      ]
    },
    {
      "cell_type": "code",
      "source": [
        "# Center of the map\n",
        "lon, lat = list(gdf_mall.geometry.boundary.centroid.coords)[0]\n",
        "lon, lat"
      ],
      "metadata": {
        "colab": {
          "base_uri": "https://localhost:8080/"
        },
        "id": "txW4v1-xjDCW",
        "outputId": "892f6ed3-babb-4d56-e6a5-e471ab56fba1"
      },
      "execution_count": 17,
      "outputs": [
        {
          "output_type": "execute_result",
          "data": {
            "text/plain": [
              "(-79.90951320936493, -2.1409155511014633)"
            ]
          },
          "metadata": {},
          "execution_count": 17
        }
      ]
    },
    {
      "cell_type": "code",
      "execution_count": 18,
      "metadata": {
        "id": "xhx2cLmfhhX7"
      },
      "outputs": [],
      "source": [
        "# Convert lat/lon to Web Mercator coordinates\n",
        "center_x, center_y = latlon_to_web_mercator(lat, lon)\n",
        "\n",
        "# Define zoom level\n",
        "zoom_level = 16  # Higher zoom level = closer view\n",
        "tile_size = 256  # Tile size for Web Mercator\n",
        "earth_circumference = 40075016.686  # Earth's circumference in meters\n",
        "initial_resolution = earth_circumference / tile_size  # Resolution at zoom level 0\n",
        "resolution = initial_resolution / (2 ** zoom_level)  # Resolution at the desired zoom level\n",
        "\n",
        "# Calculate x_range and y_range based on zoom level\n",
        "range_size = resolution * tile_size  # Size of the range in meters\n",
        "x_range = (center_x - range_size / 2, center_x + range_size / 2)\n",
        "y_range = (center_y - range_size / 2, center_y + range_size / 2)\n",
        "\n",
        "# Define the map with centered coordinates and zoom level\n",
        "p = figure(\n",
        "    x_range=x_range,\n",
        "    y_range=y_range,\n",
        "    x_axis_type=\"mercator\",\n",
        "    y_axis_type=\"mercator\",\n",
        "    title=f\"Map with GeoPandas Data (Zoom Level {zoom_level})\"\n",
        ")\n",
        "\n",
        "tile_provider = get_provider(Vendors.ESRI_IMAGERY)  # Using ESRI Satellite Imagery\n",
        "# tile_provider = get_provider(Vendors.OSM)  # Using ESRI Satellite Imagery\n",
        "p.add_tile(tile_provider)\n",
        "\n",
        "# Plot polygons\n",
        "p.patches(xs=\"xs\", ys=\"ys\", source=source, fill_alpha=0.5, line_width=1, color=\"blue\")\n",
        "\n",
        "n = 7\n",
        "output_file(f\"map_debug{n}.html\")\n",
        "\n",
        "# Show the map\n",
        "# show(p)"
      ]
    },
    {
      "cell_type": "code",
      "source": [
        "p"
      ],
      "metadata": {
        "colab": {
          "base_uri": "https://localhost:8080/",
          "height": 34
        },
        "id": "3kqo_bZyjdZg",
        "outputId": "c8d20116-1b25-4686-999a-24f2f63a5e86"
      },
      "execution_count": 19,
      "outputs": [
        {
          "output_type": "execute_result",
          "data": {
            "text/plain": [
              "Figure(id='1007', ...)"
            ],
            "text/html": [
              "<div style=\"display: table;\"><div style=\"display: table-row;\"><div style=\"display: table-cell;\"><b title=\"bokeh.plotting.figure.Figure\">Figure</b>(</div><div style=\"display: table-cell;\">id&nbsp;=&nbsp;'1007', <span id=\"1058\" style=\"cursor: pointer;\">&hellip;)</span></div></div><div class=\"1057\" style=\"display: none;\"><div style=\"display: table-cell;\"></div><div style=\"display: table-cell;\">above&nbsp;=&nbsp;[],</div></div><div class=\"1057\" style=\"display: none;\"><div style=\"display: table-cell;\"></div><div style=\"display: table-cell;\">align&nbsp;=&nbsp;'start',</div></div><div class=\"1057\" style=\"display: none;\"><div style=\"display: table-cell;\"></div><div style=\"display: table-cell;\">aspect_ratio&nbsp;=&nbsp;None,</div></div><div class=\"1057\" style=\"display: none;\"><div style=\"display: table-cell;\"></div><div style=\"display: table-cell;\">aspect_scale&nbsp;=&nbsp;1,</div></div><div class=\"1057\" style=\"display: none;\"><div style=\"display: table-cell;\"></div><div style=\"display: table-cell;\">background&nbsp;=&nbsp;None,</div></div><div class=\"1057\" style=\"display: none;\"><div style=\"display: table-cell;\"></div><div style=\"display: table-cell;\">background_fill_alpha&nbsp;=&nbsp;1.0,</div></div><div class=\"1057\" style=\"display: none;\"><div style=\"display: table-cell;\"></div><div style=\"display: table-cell;\">background_fill_color&nbsp;=&nbsp;'#ffffff',</div></div><div class=\"1057\" style=\"display: none;\"><div style=\"display: table-cell;\"></div><div style=\"display: table-cell;\">below&nbsp;=&nbsp;[MercatorAxis(id='1018', ...)],</div></div><div class=\"1057\" style=\"display: none;\"><div style=\"display: table-cell;\"></div><div style=\"display: table-cell;\">border_fill_alpha&nbsp;=&nbsp;1.0,</div></div><div class=\"1057\" style=\"display: none;\"><div style=\"display: table-cell;\"></div><div style=\"display: table-cell;\">border_fill_color&nbsp;=&nbsp;'#ffffff',</div></div><div class=\"1057\" style=\"display: none;\"><div style=\"display: table-cell;\"></div><div style=\"display: table-cell;\">center&nbsp;=&nbsp;[Grid(id='1025', ...), Grid(id='1033', ...)],</div></div><div class=\"1057\" style=\"display: none;\"><div style=\"display: table-cell;\"></div><div style=\"display: table-cell;\">css_classes&nbsp;=&nbsp;[],</div></div><div class=\"1057\" style=\"display: none;\"><div style=\"display: table-cell;\"></div><div style=\"display: table-cell;\">disabled&nbsp;=&nbsp;False,</div></div><div class=\"1057\" style=\"display: none;\"><div style=\"display: table-cell;\"></div><div style=\"display: table-cell;\">extra_x_ranges&nbsp;=&nbsp;{},</div></div><div class=\"1057\" style=\"display: none;\"><div style=\"display: table-cell;\"></div><div style=\"display: table-cell;\">extra_x_scales&nbsp;=&nbsp;{},</div></div><div class=\"1057\" style=\"display: none;\"><div style=\"display: table-cell;\"></div><div style=\"display: table-cell;\">extra_y_ranges&nbsp;=&nbsp;{},</div></div><div class=\"1057\" style=\"display: none;\"><div style=\"display: table-cell;\"></div><div style=\"display: table-cell;\">extra_y_scales&nbsp;=&nbsp;{},</div></div><div class=\"1057\" style=\"display: none;\"><div style=\"display: table-cell;\"></div><div style=\"display: table-cell;\">frame_height&nbsp;=&nbsp;None,</div></div><div class=\"1057\" style=\"display: none;\"><div style=\"display: table-cell;\"></div><div style=\"display: table-cell;\">frame_width&nbsp;=&nbsp;None,</div></div><div class=\"1057\" style=\"display: none;\"><div style=\"display: table-cell;\"></div><div style=\"display: table-cell;\">height&nbsp;=&nbsp;600,</div></div><div class=\"1057\" style=\"display: none;\"><div style=\"display: table-cell;\"></div><div style=\"display: table-cell;\">height_policy&nbsp;=&nbsp;'auto',</div></div><div class=\"1057\" style=\"display: none;\"><div style=\"display: table-cell;\"></div><div style=\"display: table-cell;\">hidpi&nbsp;=&nbsp;True,</div></div><div class=\"1057\" style=\"display: none;\"><div style=\"display: table-cell;\"></div><div style=\"display: table-cell;\">inner_height&nbsp;=&nbsp;0,</div></div><div class=\"1057\" style=\"display: none;\"><div style=\"display: table-cell;\"></div><div style=\"display: table-cell;\">inner_width&nbsp;=&nbsp;0,</div></div><div class=\"1057\" style=\"display: none;\"><div style=\"display: table-cell;\"></div><div style=\"display: table-cell;\">js_event_callbacks&nbsp;=&nbsp;{},</div></div><div class=\"1057\" style=\"display: none;\"><div style=\"display: table-cell;\"></div><div style=\"display: table-cell;\">js_property_callbacks&nbsp;=&nbsp;{},</div></div><div class=\"1057\" style=\"display: none;\"><div style=\"display: table-cell;\"></div><div style=\"display: table-cell;\">left&nbsp;=&nbsp;[MercatorAxis(id='1026', ...)],</div></div><div class=\"1057\" style=\"display: none;\"><div style=\"display: table-cell;\"></div><div style=\"display: table-cell;\">lod_factor&nbsp;=&nbsp;10,</div></div><div class=\"1057\" style=\"display: none;\"><div style=\"display: table-cell;\"></div><div style=\"display: table-cell;\">lod_interval&nbsp;=&nbsp;300,</div></div><div class=\"1057\" style=\"display: none;\"><div style=\"display: table-cell;\"></div><div style=\"display: table-cell;\">lod_threshold&nbsp;=&nbsp;2000,</div></div><div class=\"1057\" style=\"display: none;\"><div style=\"display: table-cell;\"></div><div style=\"display: table-cell;\">lod_timeout&nbsp;=&nbsp;500,</div></div><div class=\"1057\" style=\"display: none;\"><div style=\"display: table-cell;\"></div><div style=\"display: table-cell;\">margin&nbsp;=&nbsp;(0, 0, 0, 0),</div></div><div class=\"1057\" style=\"display: none;\"><div style=\"display: table-cell;\"></div><div style=\"display: table-cell;\">match_aspect&nbsp;=&nbsp;False,</div></div><div class=\"1057\" style=\"display: none;\"><div style=\"display: table-cell;\"></div><div style=\"display: table-cell;\">max_height&nbsp;=&nbsp;None,</div></div><div class=\"1057\" style=\"display: none;\"><div style=\"display: table-cell;\"></div><div style=\"display: table-cell;\">max_width&nbsp;=&nbsp;None,</div></div><div class=\"1057\" style=\"display: none;\"><div style=\"display: table-cell;\"></div><div style=\"display: table-cell;\">min_border&nbsp;=&nbsp;5,</div></div><div class=\"1057\" style=\"display: none;\"><div style=\"display: table-cell;\"></div><div style=\"display: table-cell;\">min_border_bottom&nbsp;=&nbsp;None,</div></div><div class=\"1057\" style=\"display: none;\"><div style=\"display: table-cell;\"></div><div style=\"display: table-cell;\">min_border_left&nbsp;=&nbsp;None,</div></div><div class=\"1057\" style=\"display: none;\"><div style=\"display: table-cell;\"></div><div style=\"display: table-cell;\">min_border_right&nbsp;=&nbsp;None,</div></div><div class=\"1057\" style=\"display: none;\"><div style=\"display: table-cell;\"></div><div style=\"display: table-cell;\">min_border_top&nbsp;=&nbsp;None,</div></div><div class=\"1057\" style=\"display: none;\"><div style=\"display: table-cell;\"></div><div style=\"display: table-cell;\">min_height&nbsp;=&nbsp;None,</div></div><div class=\"1057\" style=\"display: none;\"><div style=\"display: table-cell;\"></div><div style=\"display: table-cell;\">min_width&nbsp;=&nbsp;None,</div></div><div class=\"1057\" style=\"display: none;\"><div style=\"display: table-cell;\"></div><div style=\"display: table-cell;\">name&nbsp;=&nbsp;None,</div></div><div class=\"1057\" style=\"display: none;\"><div style=\"display: table-cell;\"></div><div style=\"display: table-cell;\">outer_height&nbsp;=&nbsp;0,</div></div><div class=\"1057\" style=\"display: none;\"><div style=\"display: table-cell;\"></div><div style=\"display: table-cell;\">outer_width&nbsp;=&nbsp;0,</div></div><div class=\"1057\" style=\"display: none;\"><div style=\"display: table-cell;\"></div><div style=\"display: table-cell;\">outline_line_alpha&nbsp;=&nbsp;1.0,</div></div><div class=\"1057\" style=\"display: none;\"><div style=\"display: table-cell;\"></div><div style=\"display: table-cell;\">outline_line_cap&nbsp;=&nbsp;'butt',</div></div><div class=\"1057\" style=\"display: none;\"><div style=\"display: table-cell;\"></div><div style=\"display: table-cell;\">outline_line_color&nbsp;=&nbsp;'#e5e5e5',</div></div><div class=\"1057\" style=\"display: none;\"><div style=\"display: table-cell;\"></div><div style=\"display: table-cell;\">outline_line_dash&nbsp;=&nbsp;[],</div></div><div class=\"1057\" style=\"display: none;\"><div style=\"display: table-cell;\"></div><div style=\"display: table-cell;\">outline_line_dash_offset&nbsp;=&nbsp;0,</div></div><div class=\"1057\" style=\"display: none;\"><div style=\"display: table-cell;\"></div><div style=\"display: table-cell;\">outline_line_join&nbsp;=&nbsp;'bevel',</div></div><div class=\"1057\" style=\"display: none;\"><div style=\"display: table-cell;\"></div><div style=\"display: table-cell;\">outline_line_width&nbsp;=&nbsp;1,</div></div><div class=\"1057\" style=\"display: none;\"><div style=\"display: table-cell;\"></div><div style=\"display: table-cell;\">output_backend&nbsp;=&nbsp;'canvas',</div></div><div class=\"1057\" style=\"display: none;\"><div style=\"display: table-cell;\"></div><div style=\"display: table-cell;\">renderers&nbsp;=&nbsp;[TileRenderer(id='1049', ...), GlyphRenderer(id='1055', ...)],</div></div><div class=\"1057\" style=\"display: none;\"><div style=\"display: table-cell;\"></div><div style=\"display: table-cell;\">reset_policy&nbsp;=&nbsp;'standard',</div></div><div class=\"1057\" style=\"display: none;\"><div style=\"display: table-cell;\"></div><div style=\"display: table-cell;\">right&nbsp;=&nbsp;[],</div></div><div class=\"1057\" style=\"display: none;\"><div style=\"display: table-cell;\"></div><div style=\"display: table-cell;\">sizing_mode&nbsp;=&nbsp;None,</div></div><div class=\"1057\" style=\"display: none;\"><div style=\"display: table-cell;\"></div><div style=\"display: table-cell;\">subscribed_events&nbsp;=&nbsp;[],</div></div><div class=\"1057\" style=\"display: none;\"><div style=\"display: table-cell;\"></div><div style=\"display: table-cell;\">syncable&nbsp;=&nbsp;True,</div></div><div class=\"1057\" style=\"display: none;\"><div style=\"display: table-cell;\"></div><div style=\"display: table-cell;\">tags&nbsp;=&nbsp;[],</div></div><div class=\"1057\" style=\"display: none;\"><div style=\"display: table-cell;\"></div><div style=\"display: table-cell;\">title&nbsp;=&nbsp;Title(id='1008', ...),</div></div><div class=\"1057\" style=\"display: none;\"><div style=\"display: table-cell;\"></div><div style=\"display: table-cell;\">title_location&nbsp;=&nbsp;'above',</div></div><div class=\"1057\" style=\"display: none;\"><div style=\"display: table-cell;\"></div><div style=\"display: table-cell;\">toolbar&nbsp;=&nbsp;Toolbar(id='1041', ...),</div></div><div class=\"1057\" style=\"display: none;\"><div style=\"display: table-cell;\"></div><div style=\"display: table-cell;\">toolbar_location&nbsp;=&nbsp;'right',</div></div><div class=\"1057\" style=\"display: none;\"><div style=\"display: table-cell;\"></div><div style=\"display: table-cell;\">toolbar_sticky&nbsp;=&nbsp;True,</div></div><div class=\"1057\" style=\"display: none;\"><div style=\"display: table-cell;\"></div><div style=\"display: table-cell;\">visible&nbsp;=&nbsp;True,</div></div><div class=\"1057\" style=\"display: none;\"><div style=\"display: table-cell;\"></div><div style=\"display: table-cell;\">width&nbsp;=&nbsp;600,</div></div><div class=\"1057\" style=\"display: none;\"><div style=\"display: table-cell;\"></div><div style=\"display: table-cell;\">width_policy&nbsp;=&nbsp;'auto',</div></div><div class=\"1057\" style=\"display: none;\"><div style=\"display: table-cell;\"></div><div style=\"display: table-cell;\">x_range&nbsp;=&nbsp;Range1d(id='1010', ...),</div></div><div class=\"1057\" style=\"display: none;\"><div style=\"display: table-cell;\"></div><div style=\"display: table-cell;\">x_scale&nbsp;=&nbsp;LinearScale(id='1014', ...),</div></div><div class=\"1057\" style=\"display: none;\"><div style=\"display: table-cell;\"></div><div style=\"display: table-cell;\">y_range&nbsp;=&nbsp;Range1d(id='1012', ...),</div></div><div class=\"1057\" style=\"display: none;\"><div style=\"display: table-cell;\"></div><div style=\"display: table-cell;\">y_scale&nbsp;=&nbsp;LinearScale(id='1016', ...))</div></div></div>\n",
              "<script>\n",
              "(function() {\n",
              "  let expanded = false;\n",
              "  const ellipsis = document.getElementById(\"1058\");\n",
              "  ellipsis.addEventListener(\"click\", function() {\n",
              "    const rows = document.getElementsByClassName(\"1057\");\n",
              "    for (let i = 0; i < rows.length; i++) {\n",
              "      const el = rows[i];\n",
              "      el.style.display = expanded ? \"none\" : \"table-row\";\n",
              "    }\n",
              "    ellipsis.innerHTML = expanded ? \"&hellip;)\" : \"&lsaquo;&lsaquo;&lsaquo;\";\n",
              "    expanded = !expanded;\n",
              "  });\n",
              "})();\n",
              "</script>\n"
            ]
          },
          "metadata": {},
          "execution_count": 19
        }
      ]
    },
    {
      "cell_type": "code",
      "source": [],
      "metadata": {
        "id": "vAhgBsHXjfMT"
      },
      "execution_count": null,
      "outputs": []
    }
  ]
}